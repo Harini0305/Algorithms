{
  "nbformat": 4,
  "nbformat_minor": 0,
  "metadata": {
    "colab": {
      "provenance": [],
      "authorship_tag": "ABX9TyPgt9/47T76as9QKIEBEjze",
      "include_colab_link": true
    },
    "kernelspec": {
      "name": "python3",
      "display_name": "Python 3"
    },
    "language_info": {
      "name": "python"
    }
  },
  "cells": [
    {
      "cell_type": "markdown",
      "metadata": {
        "id": "view-in-github",
        "colab_type": "text"
      },
      "source": [
        "<a href=\"https://colab.research.google.com/github/Harini0305/Algorithms/blob/main/Prims_algorithm.ipynb\" target=\"_parent\"><img src=\"https://colab.research.google.com/assets/colab-badge.svg\" alt=\"Open In Colab\"/></a>"
      ]
    },
    {
      "cell_type": "code",
      "source": [
        "INF = 999999\n",
        "V = 5\n",
        "\n",
        "\n",
        "graph = [\n",
        "    [0, 2, 0, 6, 0],\n",
        "    [2, 0, 3, 8, 5],\n",
        "    [0, 3, 0, 0, 7],\n",
        "    [6, 8, 0, 0, 9],\n",
        "    [0, 5, 7, 9, 0]\n",
        "]\n",
        "\n",
        "selected = [False] * V\n",
        "selected[0] = True\n",
        "\n",
        "print(\"Edge \\tWeight\")\n",
        "total_cost = 0\n",
        "\n",
        "for _ in range(V - 1):\n",
        "    min_weight = INF\n",
        "    x = 0\n",
        "    y = 0\n",
        "\n",
        "    for i in range(V):\n",
        "        if selected[i]:\n",
        "            for j in range(V):\n",
        "                if not selected[j] and graph[i][j]:\n",
        "                    if graph[i][j] < min_weight:\n",
        "                        min_weight = graph[i][j]\n",
        "                        x = i\n",
        "                        y = j\n",
        "\n",
        "    print(f\"{x} - {y} \\t{graph[x][y]}\")\n",
        "    total_cost += graph[x][y]\n",
        "    selected[y] = True\n",
        "\n",
        "print(f\"\\nTotal cost of Minimum Spanning Tree: {total_cost}\")\n"
      ],
      "metadata": {
        "colab": {
          "base_uri": "https://localhost:8080/"
        },
        "id": "7xvHn3llgS-H",
        "outputId": "52d57123-17c2-4b70-f502-03f0a27f3cb1"
      },
      "execution_count": 9,
      "outputs": [
        {
          "output_type": "stream",
          "name": "stdout",
          "text": [
            "Edge \tWeight\n",
            "0 - 1 \t2\n",
            "1 - 2 \t3\n",
            "1 - 4 \t5\n",
            "0 - 3 \t6\n",
            "\n",
            "Total cost of Minimum Spanning Tree: 16\n"
          ]
        }
      ]
    }
  ]
}